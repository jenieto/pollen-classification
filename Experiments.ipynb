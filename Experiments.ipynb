{
  "nbformat": 4,
  "nbformat_minor": 0,
  "metadata": {
    "colab": {
      "name": "Experiments.ipynb",
      "provenance": [],
      "authorship_tag": "ABX9TyPiTdZhQLga2Yb+B8/WaHlD",
      "include_colab_link": true
    },
    "kernelspec": {
      "name": "python3",
      "display_name": "Python 3"
    }
  },
  "cells": [
    {
      "cell_type": "markdown",
      "metadata": {
        "id": "view-in-github",
        "colab_type": "text"
      },
      "source": [
        "<a href=\"https://colab.research.google.com/github/jenieto/pollen-classification/blob/master/Experiments.ipynb\" target=\"_parent\"><img src=\"https://colab.research.google.com/assets/colab-badge.svg\" alt=\"Open In Colab\"/></a>"
      ]
    },
    {
      "cell_type": "code",
      "metadata": {
        "id": "RPnv6Jz4glpL",
        "colab_type": "code",
        "colab": {}
      },
      "source": [
        "# Montamos Google Drive\n",
        "from google.colab import drive\n",
        "drive.mount('/content/drive/')"
      ],
      "execution_count": null,
      "outputs": []
    },
    {
      "cell_type": "code",
      "metadata": {
        "id": "5bSgNbXQiQgv",
        "colab_type": "code",
        "colab": {}
      },
      "source": [
        "# Extract data\n",
        "!mkdir -p /data\n",
        "!tar xvzf \"/content/drive/My Drive/Datasets/anuka1200.tar.gz\" --directory /data"
      ],
      "execution_count": null,
      "outputs": []
    },
    {
      "cell_type": "code",
      "metadata": {
        "id": "9FN1wGiqjiyM",
        "colab_type": "code",
        "colab": {}
      },
      "source": [
        "# Create datasets\n",
        "import tensorflow as tf\n",
        "\n",
        "training_size = 0.8\n",
        "validation_size = 0.2\n",
        "image_height = 50\n",
        "image_width = 50\n",
        "image_channels = 3\n",
        "\n",
        "train_dataset = tf.keras.preprocessing.image_dataset_from_directory(\n",
        "    directory='/data/anuka1200',\n",
        "    subset=\"training\",\n",
        "    validation_split=training_size,\n",
        "    seed=123,\n",
        "    image_size=(image_height, image_width))\n",
        "\n",
        "validation_dataset = tf.keras.preprocessing.image_dataset_from_directory(\n",
        "    directory='/data/anuka1200',\n",
        "    subset=\"validation\",\n",
        "    validation_split=validation_size,\n",
        "    seed=123,\n",
        "    image_size=(image_height, image_width))\n",
        "\n",
        "class_names = train_dataset.class_names\n",
        "print('Class Names', class_names)"
      ],
      "execution_count": null,
      "outputs": []
    },
    {
      "cell_type": "code",
      "metadata": {
        "id": "rguRs6QIl_sd",
        "colab_type": "code",
        "colab": {}
      },
      "source": [
        "# Explore data\n",
        "import matplotlib.pyplot as plt\n",
        "\n",
        "plt.figure(figsize=(10, 10))\n",
        "for images, labels in train_dataset.take(1):\n",
        "  for i in range(9):\n",
        "    ax = plt.subplot(3, 3, i + 1)\n",
        "    plt.imshow(images[i].numpy().astype(\"uint8\"))\n",
        "    plt.title(class_names[labels[i]])\n",
        "    plt.axis(\"off\")"
      ],
      "execution_count": null,
      "outputs": []
    },
    {
      "cell_type": "code",
      "metadata": {
        "id": "7lCTfIYMma-p",
        "colab_type": "code",
        "colab": {}
      },
      "source": [
        "# Create model\n",
        "from tensorflow.keras.models import Sequential\n",
        "from tensorflow.keras import layers\n",
        "\n",
        "model = Sequential([\n",
        "  layers.experimental.preprocessing.Rescaling(1./255, input_shape=image_size),\n",
        "  layers.Conv2D(32, (3, 3), activation='relu'),\n",
        "  layers.MaxPooling2D(),\n",
        "  layers.Conv2D(16, 3, padding='same', activation='relu'),\n",
        "  layers.MaxPooling2D(),\n",
        "  layers.Conv2D(64, 3, padding='same', activation='relu'),\n",
        "  layers.MaxPooling2D(),\n",
        "  layers.Flatten(),\n",
        "  layers.Dense(128, activation='relu'),\n",
        "  layers.Dense(2, activation='sigmoid')\n",
        "])"
      ],
      "execution_count": 45,
      "outputs": []
    },
    {
      "cell_type": "code",
      "metadata": {
        "id": "ymfBwW_Cnzry",
        "colab_type": "code",
        "colab": {}
      },
      "source": [
        "# Compile model\n",
        "model.compile(optimizer='adam',\n",
        "              loss=tf.keras.losses.SparseCategoricalCrossentropy(from_logits=True),\n",
        "              metrics=['accuracy'])\n",
        "\n",
        "model.summary()"
      ],
      "execution_count": null,
      "outputs": []
    },
    {
      "cell_type": "code",
      "metadata": {
        "id": "WGQ_zZQ7n9UG",
        "colab_type": "code",
        "colab": {}
      },
      "source": [
        "# Train model\n",
        "epochs=10\n",
        "history = model.fit(\n",
        "  train_dataset,\n",
        "  validation_data=validation_dataset,\n",
        "  epochs=epochs\n",
        ")"
      ],
      "execution_count": null,
      "outputs": []
    }
  ]
}